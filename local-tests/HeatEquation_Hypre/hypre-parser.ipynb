{
 "cells": [
  {
   "cell_type": "code",
   "execution_count": 41,
   "metadata": {
    "collapsed": true
   },
   "outputs": [],
   "source": [
    "%matplotlib inline"
   ]
  },
  {
   "cell_type": "code",
   "execution_count": 42,
   "metadata": {
    "collapsed": true
   },
   "outputs": [],
   "source": [
    "import numpy as np\n",
    "from functools import reduce\n",
    "from operator import mul\n",
    "from scipy.linalg import solve\n",
    "import matplotlib.pyplot as plt"
   ]
  },
  {
   "cell_type": "code",
   "execution_count": 30,
   "metadata": {},
   "outputs": [],
   "source": [
    "def sanitize(line):\n",
    "    # remove semi-colons, parenthesis and commas\n",
    "    mt = str.maketrans(\n",
    "        {';': None, '(': None, ')': None, ',': None, ':': None}\n",
    "    )\n",
    "    return line.translate(mt)\n",
    "\n",
    "prod = lambda a: reduce(mul, a, 1)\n",
    "    \n",
    "def _process_grid(fd, is_matrix):\n",
    "    for line in fd:\n",
    "        if line.startswith('0:'):\n",
    "            line = sanitize(line[2:]).strip().split()\n",
    "            ndims = (len(line)-1)//2\n",
    "            lo=[int(x) for x in line[:ndims]]\n",
    "            hi=[int(x) for x in line[ndims+1:]]\n",
    "            grid_size = [h-l+1 for h, l in zip(hi, lo)]\n",
    "            if is_matrix:\n",
    "                shape = (prod(grid_size), prod(grid_size))\n",
    "            else:\n",
    "                shape = (prod(grid_size), )\n",
    "            return grid_size, np.zeros(shape)\n",
    "    raise TypeError(\"Grid size not found. Improperly formatted file\")\n",
    "\n",
    "\n",
    "def process_grid(file_descriptor, is_matrix):\n",
    "    \"\"\" read an opened file to determine matrix size \"\"\"\n",
    "    for line in file_descriptor:\n",
    "        if line.startswith('Grid:'):\n",
    "            return _process_grid(file_descriptor, is_matrix)\n",
    "    raise TypeError(\"'Grid:' not found in file\")   \n",
    "    \n",
    "    \n",
    "def _process_stencil(fd):\n",
    "    stencil = []\n",
    "    for line in fd:\n",
    "        # stencil ends with a blank line\n",
    "        if len(line.strip()) == 0:\n",
    "            return stencil\n",
    "        # properly formatted stencil is d: i j\n",
    "        line = sanitize(line).strip().split()\n",
    "        if len(line) >= 3:\n",
    "            idx = int(line[0])\n",
    "            if idx != len(stencil):\n",
    "                raise TypeError(\"Expected Stencils in different order\")\n",
    "            stencil.append([int(x) for x in line[1:]])\n",
    "            \n",
    "    \n",
    "def process_stencil(file_descriptor, is_matrix):\n",
    "    \"\"\" read an opened file and return stencil \"\"\"\n",
    "    if not is_matrix:\n",
    "        return None\n",
    "    for line in file_descriptor:\n",
    "        if line.startswith('Stencil:'):\n",
    "            return _process_stencil(file_descriptor,)\n",
    "    raise TypeError(\"'Stencil:' not found in file\")\n",
    "    \n",
    "\n",
    "def _inbounds(grid):\n",
    "    def _(ijk):\n",
    "        for idx, upper in zip(ijk, grid):\n",
    "            if idx < 0 or idx >= upper:\n",
    "                return False\n",
    "        return True\n",
    "    return _\n",
    "    \n",
    "def _1d_coordinate(grid):\n",
    "    def _(ijk):\n",
    "        c = ijk[0]\n",
    "        for i, n in zip(ijk[1:], grid):\n",
    "            c += i*n\n",
    "        return c\n",
    "    return _\n",
    "    \n",
    "def _fill_matrix(fd, grid, mat, st):\n",
    "    if st is None and mat.ndim != 1:\n",
    "        raise TypeError(\"expect a vector\")\n",
    "    \n",
    "    inbounds = _inbounds(grid)\n",
    "    coord = _1d_coordinate(grid)\n",
    "    ndim = len(grid)\n",
    "    \n",
    "    for line in fd:\n",
    "        line = sanitize(line[2:]).strip().split()\n",
    "        ijk = tuple(int(x) for x in line[:ndim])\n",
    "        if not inbounds(ijk):\n",
    "            continue\n",
    "        \n",
    "        row = coord(ijk)\n",
    "       \n",
    "        if st is None:\n",
    "            # filling a vector\n",
    "            mat[row] = float(line[ndim+1])\n",
    "        else:\n",
    "            st_idx = int(line[ndim])           \n",
    "            ijk_off = tuple(base+off for base, off in zip(ijk, st[st_idx]))\n",
    "       \n",
    "            if not inbounds(ijk_off):\n",
    "                continue\n",
    "            col = coord(ijk_off)\n",
    "            mat[row, col] = float(line[ndim+1])\n",
    "    \n",
    "    \n",
    "def fill_matrix(file_descriptor, grid, matrix, stencil):\n",
    "    \"\"\" Fill matrix with data at specified offsets \"\"\"\n",
    "    for line in file_descriptor:\n",
    "        if line.startswith(\"Data:\"):\n",
    "            return _fill_matrix(file_descriptor, grid, matrix, stencil)\n",
    "    raise TypeError(\"'Data:' not found in file\")\n",
    "        \n",
    "    \n",
    "    \n",
    "def parse_struct_hypre(file_name):\n",
    "    with open(file_name, 'r') as f:\n",
    "        ismatrix = 'matrix' in f.readline().lower()\n",
    "        # find size and start of data\n",
    "        grid, mat = process_grid(f, ismatrix)\n",
    "        st = process_stencil(f, ismatrix)\n",
    "        fill_matrix(f, grid, mat, st)\n",
    "        return mat"
   ]
  },
  {
   "cell_type": "code",
   "execution_count": 32,
   "metadata": {},
   "outputs": [],
   "source": [
    "mat = parse_struct_hypre('HYPRE_StructMatrix.out.00000')"
   ]
  },
  {
   "cell_type": "code",
   "execution_count": 33,
   "metadata": {},
   "outputs": [
    {
     "data": {
      "text/plain": [
       "array([[ 2.5 , -0.25,  0.  , ...,  0.  ,  0.  ,  0.  ],\n",
       "       [-0.25,  2.25, -0.25, ...,  0.  ,  0.  ,  0.  ],\n",
       "       [ 0.  , -0.25,  2.25, ...,  0.  ,  0.  ,  0.  ],\n",
       "       ..., \n",
       "       [ 0.  ,  0.  ,  0.  , ...,  2.25, -0.25,  0.  ],\n",
       "       [ 0.  ,  0.  ,  0.  , ..., -0.25,  2.25, -0.25],\n",
       "       [ 0.  ,  0.  ,  0.  , ...,  0.  , -0.25,  2.5 ]])"
      ]
     },
     "execution_count": 33,
     "metadata": {},
     "output_type": "execute_result"
    }
   ],
   "source": [
    "mat"
   ]
  },
  {
   "cell_type": "code",
   "execution_count": 35,
   "metadata": {},
   "outputs": [],
   "source": [
    "rhs = parse_struct_hypre('HYPRE_RHS.out.00000')"
   ]
  },
  {
   "cell_type": "code",
   "execution_count": 37,
   "metadata": {},
   "outputs": [
    {
     "data": {
      "text/plain": [
       "array([  1.03491932e-07,   3.17461125e-03,   2.69020292e-03,\n",
       "         2.21756235e-03,   1.77501701e-03,   1.38100549e-03,\n",
       "         1.02231855e-03,   6.34136533e-04,   1.45855303e-04,\n",
       "        -4.42524675e-04,  -1.06039833e-03,  -1.64294508e-03,\n",
       "        -2.17695476e-03,  -2.68086500e-03,  -3.17300237e-03,\n",
       "         1.03491932e-07,  -3.17300237e-03,   6.11838383e-06,\n",
       "         3.47573661e-05,   1.48254588e-04,   4.74398879e-04,\n",
       "         1.13721863e-03,   2.03913315e-03,   2.73149264e-03,\n",
       "         2.73149264e-03,   2.03913315e-03,   1.13721863e-03,\n",
       "         4.74398879e-04,   1.48254588e-04,   3.47573661e-05,\n",
       "         6.11838383e-06,   3.17461125e-03,  -2.68086500e-03,\n",
       "         3.47573661e-05,   1.93132694e-04,   8.06855939e-04,\n",
       "         2.53541435e-03,   5.99055379e-03,   1.06344873e-02,\n",
       "         1.41725942e-02,   1.41725942e-02,   1.06344873e-02,\n",
       "         5.99055379e-03,   2.53541435e-03,   8.06855939e-04,\n",
       "         1.93132694e-04,   3.47573661e-05,   2.69020292e-03,\n",
       "        -2.17695476e-03,   1.48254588e-04,   8.06855939e-04,\n",
       "         3.30290895e-03,   1.01887127e-02,   2.37094532e-02,\n",
       "         4.16361668e-02,   5.51779899e-02,   5.51779899e-02,\n",
       "         4.16361668e-02,   2.37094532e-02,   1.01887127e-02,\n",
       "         3.30290895e-03,   8.06855939e-04,   1.48254588e-04,\n",
       "         2.21756235e-03,  -1.64294508e-03,   4.74398879e-04,\n",
       "         2.53541435e-03,   1.01887127e-02,   3.08865353e-02,\n",
       "         7.08146456e-02,   1.23018621e-01,   1.62101585e-01,\n",
       "         1.62101585e-01,   1.23018621e-01,   7.08146456e-02,\n",
       "         3.08865353e-02,   1.01887127e-02,   2.53541435e-03,\n",
       "         4.74398879e-04,   1.77501701e-03,  -1.06039833e-03,\n",
       "         1.13721863e-03,   5.99055379e-03,   2.37094532e-02,\n",
       "         7.08146456e-02,   1.60257555e-01,   2.75701804e-01,\n",
       "         3.61403406e-01,   3.61403406e-01,   2.75701804e-01,\n",
       "         1.60257555e-01,   7.08146456e-02,   2.37094532e-02,\n",
       "         5.99055379e-03,   1.13721863e-03,   1.38100549e-03,\n",
       "        -4.42524675e-04,   2.03913315e-03,   1.06344873e-02,\n",
       "         4.16361668e-02,   1.23018621e-01,   2.75701804e-01,\n",
       "         4.70803734e-01,   6.14673639e-01,   6.14673639e-01,\n",
       "         4.70803734e-01,   2.75701804e-01,   1.23018621e-01,\n",
       "         4.16361668e-02,   1.06344873e-02,   2.03913315e-03,\n",
       "         1.02231855e-03,   1.45855303e-04,   2.73149264e-03,\n",
       "         1.41725942e-02,   5.51779899e-02,   1.62101585e-01,\n",
       "         3.61403406e-01,   6.14673639e-01,   8.00741330e-01,\n",
       "         8.00741330e-01,   6.14673639e-01,   3.61403406e-01,\n",
       "         1.62101585e-01,   5.51779899e-02,   1.41725942e-02,\n",
       "         2.73149264e-03,   6.34136533e-04,   6.34136533e-04,\n",
       "         2.73149264e-03,   1.41725942e-02,   5.51779899e-02,\n",
       "         1.62101585e-01,   3.61403406e-01,   6.14673639e-01,\n",
       "         8.00741330e-01,   8.00741330e-01,   6.14673639e-01,\n",
       "         3.61403406e-01,   1.62101585e-01,   5.51779899e-02,\n",
       "         1.41725942e-02,   2.73149264e-03,   1.45855303e-04,\n",
       "         1.02231855e-03,   2.03913315e-03,   1.06344873e-02,\n",
       "         4.16361668e-02,   1.23018621e-01,   2.75701804e-01,\n",
       "         4.70803734e-01,   6.14673639e-01,   6.14673639e-01,\n",
       "         4.70803734e-01,   2.75701804e-01,   1.23018621e-01,\n",
       "         4.16361668e-02,   1.06344873e-02,   2.03913315e-03,\n",
       "        -4.42524675e-04,   1.38100549e-03,   1.13721863e-03,\n",
       "         5.99055379e-03,   2.37094532e-02,   7.08146456e-02,\n",
       "         1.60257555e-01,   2.75701804e-01,   3.61403406e-01,\n",
       "         3.61403406e-01,   2.75701804e-01,   1.60257555e-01,\n",
       "         7.08146456e-02,   2.37094532e-02,   5.99055379e-03,\n",
       "         1.13721863e-03,  -1.06039833e-03,   1.77501701e-03,\n",
       "         4.74398879e-04,   2.53541435e-03,   1.01887127e-02,\n",
       "         3.08865353e-02,   7.08146456e-02,   1.23018621e-01,\n",
       "         1.62101585e-01,   1.62101585e-01,   1.23018621e-01,\n",
       "         7.08146456e-02,   3.08865353e-02,   1.01887127e-02,\n",
       "         2.53541435e-03,   4.74398879e-04,  -1.64294508e-03,\n",
       "         2.21756235e-03,   1.48254588e-04,   8.06855939e-04,\n",
       "         3.30290895e-03,   1.01887127e-02,   2.37094532e-02,\n",
       "         4.16361668e-02,   5.51779899e-02,   5.51779899e-02,\n",
       "         4.16361668e-02,   2.37094532e-02,   1.01887127e-02,\n",
       "         3.30290895e-03,   8.06855939e-04,   1.48254588e-04,\n",
       "        -2.17695476e-03,   2.69020292e-03,   3.47573661e-05,\n",
       "         1.93132694e-04,   8.06855939e-04,   2.53541435e-03,\n",
       "         5.99055379e-03,   1.06344873e-02,   1.41725942e-02,\n",
       "         1.41725942e-02,   1.06344873e-02,   5.99055379e-03,\n",
       "         2.53541435e-03,   8.06855939e-04,   1.93132694e-04,\n",
       "         3.47573661e-05,  -2.68086500e-03,   3.17461125e-03,\n",
       "         6.11838383e-06,   3.47573661e-05,   1.48254588e-04,\n",
       "         4.74398879e-04,   1.13721863e-03,   2.03913315e-03,\n",
       "         2.73149264e-03,   2.73149264e-03,   2.03913315e-03,\n",
       "         1.13721863e-03,   4.74398879e-04,   1.48254588e-04,\n",
       "         3.47573661e-05,   6.11838383e-06,  -3.17300237e-03,\n",
       "         1.03491932e-07,  -3.17300237e-03,  -2.68086500e-03,\n",
       "        -2.17695476e-03,  -1.64294508e-03,  -1.06039833e-03,\n",
       "        -4.42524675e-04,   1.45855303e-04,   6.34136533e-04,\n",
       "         1.02231855e-03,   1.38100549e-03,   1.77501701e-03,\n",
       "         2.21756235e-03,   2.69020292e-03,   3.17461125e-03,\n",
       "         1.03491932e-07])"
      ]
     },
     "execution_count": 37,
     "metadata": {},
     "output_type": "execute_result"
    }
   ],
   "source": [
    "rhs"
   ]
  },
  {
   "cell_type": "code",
   "execution_count": 39,
   "metadata": {
    "collapsed": true
   },
   "outputs": [],
   "source": [
    "sol = solve(mat, rhs)"
   ]
  },
  {
   "cell_type": "code",
   "execution_count": 43,
   "metadata": {},
   "outputs": [
    {
     "data": {
      "text/plain": [
       "(-0.0015719174827512534, 0.72335651481273644)"
      ]
     },
     "execution_count": 43,
     "metadata": {},
     "output_type": "execute_result"
    }
   ],
   "source": [
    "sol.min(), sol.max()"
   ]
  },
  {
   "cell_type": "code",
   "execution_count": 47,
   "metadata": {},
   "outputs": [
    {
     "data": {
      "text/plain": [
       "(256,)"
      ]
     },
     "execution_count": 47,
     "metadata": {},
     "output_type": "execute_result"
    }
   ],
   "source": []
  },
  {
   "cell_type": "code",
   "execution_count": 48,
   "metadata": {},
   "outputs": [
    {
     "data": {
      "text/plain": [
       "<matplotlib.image.AxesImage at 0x7fa57193f438>"
      ]
     },
     "execution_count": 48,
     "metadata": {},
     "output_type": "execute_result"
    },
    {
     "data": {
      "image/png": "[encoded data removed]",
      "text/plain": [
       "<matplotlib.figure.Figure at 0x7fa571b19400>"
      ]
     },
     "metadata": {},
     "output_type": "display_data"
    }
   ],
   "source": [
    "plt.imshow(sol.reshape(16, 16))"
   ]
  },
  {
   "cell_type": "code",
   "execution_count": null,
   "metadata": {
    "collapsed": true
   },
   "outputs": [],
   "source": []
  }
 ],
 "metadata": {
  "kernelspec": {
   "display_name": "Python 3",
   "language": "python",
   "name": "python3"
  },
  "language_info": {
   "codemirror_mode": {
    "name": "ipython",
    "version": 3
   },
   "file_extension": ".py",
   "mimetype": "text/x-python",
   "name": "python",
   "nbconvert_exporter": "python",
   "pygments_lexer": "ipython3",
   "version": "3.6.1"
  }
 },
 "nbformat": 4,
 "nbformat_minor": 2
}
